{
 "cells": [
  {
   "cell_type": "markdown",
   "metadata": {},
   "source": [
    "# Titanic\n",
    "\n",
    "## Preparing of notebook and data"
   ]
  },
  {
   "cell_type": "code",
   "execution_count": 5,
   "metadata": {
    "collapsed": true
   },
   "outputs": [],
   "source": [
    "import pandas"
   ]
  },
  {
   "cell_type": "code",
   "execution_count": 220,
   "metadata": {
    "collapsed": true
   },
   "outputs": [],
   "source": [
    "import matplotlib\n",
    "import matplotlib.style\n",
    "matplotlib.style.use('ggplot')\n",
    "\n",
    "%matplotlib inline"
   ]
  },
  {
   "cell_type": "code",
   "execution_count": 7,
   "metadata": {
    "collapsed": false
   },
   "outputs": [
    {
     "data": {
      "text/html": [
       "<style>/* Pretty Pandas Dataframes */\n",
       ".dataframe * {border-color: #c0c0c0 !important;}\n",
       ".dataframe th{background: #eee;}\n",
       ".dataframe td{\n",
       "    background: #fff;\n",
       "    text-align: right; \n",
       "    min-width:5em;\n",
       "}\n",
       "\n",
       "/* Format summary rows */\n",
       ".dataframe-summary-row tr:last-child,\n",
       ".dataframe-summary-col td:last-child{\n",
       "    background: #eee;\n",
       "    font-weight: 500;\n",
       "}\n",
       "</style>"
      ],
      "text/plain": [
       "<IPython.core.display.HTML object>"
      ]
     },
     "execution_count": 7,
     "metadata": {},
     "output_type": "execute_result"
    }
   ],
   "source": [
    "from IPython.core.display import HTML\n",
    "with open('table.css') as css:\n",
    "    html = HTML('<style>{}</style>'.format(css.read()))\n",
    "html"
   ]
  },
  {
   "cell_type": "code",
   "execution_count": 8,
   "metadata": {
    "collapsed": false
   },
   "outputs": [],
   "source": [
    "persons = pandas.read_csv('persons.csv', index_col=None)"
   ]
  },
  {
   "cell_type": "markdown",
   "metadata": {},
   "source": [
    "## \tHow many passengers of the Titanic we know?"
   ]
  },
  {
   "cell_type": "code",
   "execution_count": 9,
   "metadata": {
    "collapsed": false
   },
   "outputs": [
    {
     "data": {
      "text/plain": [
       "1313"
      ]
     },
     "execution_count": 9,
     "metadata": {},
     "output_type": "execute_result"
    }
   ],
   "source": [
    "persons['Name'].count()"
   ]
  },
  {
   "cell_type": "markdown",
   "metadata": {},
   "source": [
    "## How many percent of passengers survived  on the Titanic?"
   ]
  },
  {
   "cell_type": "code",
   "execution_count": 10,
   "metadata": {
    "collapsed": false
   },
   "outputs": [
    {
     "data": {
      "text/plain": [
       "34.272658035034269"
      ]
     },
     "execution_count": 10,
     "metadata": {},
     "output_type": "execute_result"
    }
   ],
   "source": [
    "survived_persons = persons['Survived']\n",
    "survived_persons[survived_persons == 1].count() / persons['Name'].count()*100"
   ]
  },
  {
   "cell_type": "markdown",
   "metadata": {},
   "source": [
    "## How many percent of women survived? What percentage of men survived?"
   ]
  },
  {
   "cell_type": "code",
   "execution_count": 11,
   "metadata": {
    "collapsed": false
   },
   "outputs": [
    {
     "data": {
      "text/html": [
       "<div>\n",
       "<table border=\"1\" class=\"dataframe\">\n",
       "  <thead>\n",
       "    <tr style=\"text-align: right;\">\n",
       "      <th></th>\n",
       "      <th>Survived %</th>\n",
       "    </tr>\n",
       "    <tr>\n",
       "      <th>Sex</th>\n",
       "      <th></th>\n",
       "    </tr>\n",
       "  </thead>\n",
       "  <tbody>\n",
       "    <tr>\n",
       "      <th>female</th>\n",
       "      <td>66.666667</td>\n",
       "    </tr>\n",
       "    <tr>\n",
       "      <th>male</th>\n",
       "      <td>16.686251</td>\n",
       "    </tr>\n",
       "  </tbody>\n",
       "</table>\n",
       "</div>"
      ],
      "text/plain": [
       "        Survived %\n",
       "Sex               \n",
       "female   66.666667\n",
       "male     16.686251"
      ]
     },
     "execution_count": 11,
     "metadata": {},
     "output_type": "execute_result"
    }
   ],
   "source": [
    "survived_by_sex = persons.groupby('Sex').agg(['count', sum])['Survived']\n",
    "percent_of_survived = (survived_by_sex['sum'] / survived_by_sex['count']) * 100\n",
    "\n",
    "percent_of_survived = percent_of_survived.to_frame()\n",
    "percent_of_survived.columns = ['Survived %']\n",
    "percent_of_survived"
   ]
  },
  {
   "cell_type": "markdown",
   "metadata": {},
   "source": [
    "## How many passengers were in each class? How many of them survived? How many percent is it?"
   ]
  },
  {
   "cell_type": "code",
   "execution_count": 12,
   "metadata": {
    "collapsed": false,
    "scrolled": true
   },
   "outputs": [
    {
     "data": {
      "text/html": [
       "<div>\n",
       "<table border=\"1\" class=\"dataframe\">\n",
       "  <thead>\n",
       "    <tr style=\"text-align: right;\">\n",
       "      <th></th>\n",
       "      <th>Board</th>\n",
       "      <th>Survive</th>\n",
       "      <th>Survive %</th>\n",
       "    </tr>\n",
       "    <tr>\n",
       "      <th>PClass</th>\n",
       "      <th></th>\n",
       "      <th></th>\n",
       "      <th></th>\n",
       "    </tr>\n",
       "  </thead>\n",
       "  <tbody>\n",
       "    <tr>\n",
       "      <th>1st</th>\n",
       "      <td>322</td>\n",
       "      <td>193</td>\n",
       "      <td>59.937888</td>\n",
       "    </tr>\n",
       "    <tr>\n",
       "      <th>2nd</th>\n",
       "      <td>279</td>\n",
       "      <td>119</td>\n",
       "      <td>42.652330</td>\n",
       "    </tr>\n",
       "    <tr>\n",
       "      <th>3rd</th>\n",
       "      <td>711</td>\n",
       "      <td>138</td>\n",
       "      <td>19.409283</td>\n",
       "    </tr>\n",
       "  </tbody>\n",
       "</table>\n",
       "</div>"
      ],
      "text/plain": [
       "        Board  Survive  Survive %\n",
       "PClass                           \n",
       "1st       322      193  59.937888\n",
       "2nd       279      119  42.652330\n",
       "3rd       711      138  19.409283"
      ]
     },
     "execution_count": 12,
     "metadata": {},
     "output_type": "execute_result"
    }
   ],
   "source": [
    "survived_by_class = persons.groupby('PClass').agg(['count', sum])['Survived']\n",
    "survived_percent_by_class = ( survived_by_class['sum'] / survived_by_class['count']) * 100\n",
    "result_4 = pandas.concat([survived_by_class, survived_percent_by_class], axis=1)\n",
    "result_4.columns = ['Board','Survive','Survive %']\n",
    "result_4.loc['1st':'3rd']\n"
   ]
  },
  {
   "cell_type": "markdown",
   "metadata": {},
   "source": [
    "## Percentage of survivors by age decade"
   ]
  },
  {
   "cell_type": "code",
   "execution_count": 343,
   "metadata": {
    "collapsed": false
   },
   "outputs": [
    {
     "data": {
      "image/png": "[encoded data removed]",
      "text/plain": [
       "<matplotlib.figure.Figure at 0x7f77d3afa278>"
      ]
     },
     "metadata": {},
     "output_type": "display_data"
    }
   ],
   "source": [
    "survived_by_age_decade = persons.dropna().groupby(persons['Age'] // 10 * 10).agg(['count', 'sum'])['Survived']\n",
    "percent_survived_by_age_decade = survived_by_age_decade['sum'] / survived_by_age_decade['count'] * 100\n",
    "bar_1 = percent_survived_by_age_decade.to_frame().plot.bar(legend=False)\n",
    "bar_1.axis([-0.5, 6.5,10,80])\n",
    "bar_1.set_xlabel('Age')\n",
    "bar_1.set_ylabel('Percentage of survivors')\n",
    "\n",
    "age_labels = ['0-10','10-20','20-30','30-40','40-50','50-60','60-70']\n",
    "\n",
    "bar_1.set_xticklabels(age_labels);"
   ]
  },
  {
   "cell_type": "markdown",
   "metadata": {},
   "source": [
    "## Dependency between class and age of passengers"
   ]
  },
  {
   "cell_type": "code",
   "execution_count": 366,
   "metadata": {
    "collapsed": false
   },
   "outputs": [
    {
     "data": {
      "image/png": "[encoded data removed]",
      "text/plain": [
       "<matplotlib.figure.Figure at 0x7f77d36c8828>"
      ]
     },
     "metadata": {},
     "output_type": "display_data"
    }
   ],
   "source": [
    "count_age_by_class = persons.groupby(['PClass',(persons['Age'] // 5 * 5)]).count()['Name'].to_frame().unstack('PClass').fillna(0)\n",
    "bar_2 = count_age_by_class.plot(kind='bar')\n",
    "legend = bar_2.legend(title='Class')\n",
    "\n",
    "bar_2.set_ylabel('Count of people')\n",
    "\n",
    "legend.get_texts()[0].set_text('1st')\n",
    "legend.get_texts()[1].set_text('2nd')\n",
    "legend.get_texts()[2].set_text('3rd')\n",
    "\n",
    "age_labels = ['0-5', '5-10', '10-15', '15-20','20-25', '25-30',\n",
    "              '30-35', '35-40', '40-45', '45-50', '50-55', '55-60',\n",
    "              '60-65', '65-70','70-75']\n",
    "\n",
    "bar_2.set_xticklabels(age_labels);"
   ]
  },
  {
   "cell_type": "markdown",
   "metadata": {
    "collapsed": true
   },
   "source": [
    "A lot of young people who were between 20-25 years old were in the third class ( because the students are poor basically :) ). Rich persons were traveled in first class and their age were between 35-40 and 45-50 years old."
   ]
  }
 ],
 "metadata": {
  "kernelspec": {
   "display_name": "Python 3",
   "language": "python",
   "name": "python3"
  },
  "language_info": {
   "codemirror_mode": {
    "name": "ipython",
    "version": 3
   },
   "file_extension": ".py",
   "mimetype": "text/x-python",
   "name": "python",
   "nbconvert_exporter": "python",
   "pygments_lexer": "ipython3",
   "version": "3.5.2"
  }
 },
 "nbformat": 4,
 "nbformat_minor": 1
}
